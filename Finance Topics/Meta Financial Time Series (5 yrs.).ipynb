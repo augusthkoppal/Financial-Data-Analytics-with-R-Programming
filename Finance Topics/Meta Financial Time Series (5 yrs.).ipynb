{
 "cells": [
  {
   "cell_type": "code",
   "execution_count": 1,
   "id": "fb92a48d",
   "metadata": {},
   "outputs": [],
   "source": [
    "import pandas as pd"
   ]
  },
  {
   "cell_type": "code",
   "execution_count": 17,
   "id": "45c6318c",
   "metadata": {},
   "outputs": [],
   "source": [
    "from matplotlib import pyplot as plt"
   ]
  },
  {
   "cell_type": "code",
   "execution_count": 2,
   "id": "d272e9d8",
   "metadata": {},
   "outputs": [],
   "source": [
    "df=pd.read_csv('FB.csv')"
   ]
  },
  {
   "cell_type": "code",
   "execution_count": 3,
   "id": "23d84574",
   "metadata": {},
   "outputs": [
    {
     "data": {
      "text/html": [
       "<div>\n",
       "<style scoped>\n",
       "    .dataframe tbody tr th:only-of-type {\n",
       "        vertical-align: middle;\n",
       "    }\n",
       "\n",
       "    .dataframe tbody tr th {\n",
       "        vertical-align: top;\n",
       "    }\n",
       "\n",
       "    .dataframe thead th {\n",
       "        text-align: right;\n",
       "    }\n",
       "</style>\n",
       "<table border=\"1\" class=\"dataframe\">\n",
       "  <thead>\n",
       "    <tr style=\"text-align: right;\">\n",
       "      <th></th>\n",
       "      <th>Date</th>\n",
       "      <th>Open</th>\n",
       "      <th>High</th>\n",
       "      <th>Low</th>\n",
       "      <th>Close</th>\n",
       "      <th>Adj Close</th>\n",
       "      <th>Volume</th>\n",
       "    </tr>\n",
       "  </thead>\n",
       "  <tbody>\n",
       "    <tr>\n",
       "      <th>0</th>\n",
       "      <td>2017-05-08</td>\n",
       "      <td>150.710007</td>\n",
       "      <td>151.080002</td>\n",
       "      <td>149.740005</td>\n",
       "      <td>151.059998</td>\n",
       "      <td>151.059998</td>\n",
       "      <td>15827500</td>\n",
       "    </tr>\n",
       "    <tr>\n",
       "      <th>1</th>\n",
       "      <td>2017-05-09</td>\n",
       "      <td>151.490005</td>\n",
       "      <td>152.589996</td>\n",
       "      <td>150.210007</td>\n",
       "      <td>150.479996</td>\n",
       "      <td>150.479996</td>\n",
       "      <td>17453900</td>\n",
       "    </tr>\n",
       "    <tr>\n",
       "      <th>2</th>\n",
       "      <td>2017-05-10</td>\n",
       "      <td>150.229996</td>\n",
       "      <td>150.520004</td>\n",
       "      <td>148.860001</td>\n",
       "      <td>150.289993</td>\n",
       "      <td>150.289993</td>\n",
       "      <td>12080700</td>\n",
       "    </tr>\n",
       "    <tr>\n",
       "      <th>3</th>\n",
       "      <td>2017-05-11</td>\n",
       "      <td>150.309998</td>\n",
       "      <td>150.649994</td>\n",
       "      <td>149.410004</td>\n",
       "      <td>150.039993</td>\n",
       "      <td>150.039993</td>\n",
       "      <td>11841900</td>\n",
       "    </tr>\n",
       "    <tr>\n",
       "      <th>4</th>\n",
       "      <td>2017-05-12</td>\n",
       "      <td>150.399994</td>\n",
       "      <td>150.460007</td>\n",
       "      <td>149.630005</td>\n",
       "      <td>150.330002</td>\n",
       "      <td>150.330002</td>\n",
       "      <td>9598200</td>\n",
       "    </tr>\n",
       "  </tbody>\n",
       "</table>\n",
       "</div>"
      ],
      "text/plain": [
       "         Date        Open        High         Low       Close   Adj Close  \\\n",
       "0  2017-05-08  150.710007  151.080002  149.740005  151.059998  151.059998   \n",
       "1  2017-05-09  151.490005  152.589996  150.210007  150.479996  150.479996   \n",
       "2  2017-05-10  150.229996  150.520004  148.860001  150.289993  150.289993   \n",
       "3  2017-05-11  150.309998  150.649994  149.410004  150.039993  150.039993   \n",
       "4  2017-05-12  150.399994  150.460007  149.630005  150.330002  150.330002   \n",
       "\n",
       "     Volume  \n",
       "0  15827500  \n",
       "1  17453900  \n",
       "2  12080700  \n",
       "3  11841900  \n",
       "4   9598200  "
      ]
     },
     "execution_count": 3,
     "metadata": {},
     "output_type": "execute_result"
    }
   ],
   "source": [
    "df.head()"
   ]
  },
  {
   "cell_type": "code",
   "execution_count": 4,
   "id": "9a839898",
   "metadata": {},
   "outputs": [
    {
     "data": {
      "text/html": [
       "<div>\n",
       "<style scoped>\n",
       "    .dataframe tbody tr th:only-of-type {\n",
       "        vertical-align: middle;\n",
       "    }\n",
       "\n",
       "    .dataframe tbody tr th {\n",
       "        vertical-align: top;\n",
       "    }\n",
       "\n",
       "    .dataframe thead th {\n",
       "        text-align: right;\n",
       "    }\n",
       "</style>\n",
       "<table border=\"1\" class=\"dataframe\">\n",
       "  <thead>\n",
       "    <tr style=\"text-align: right;\">\n",
       "      <th></th>\n",
       "      <th>Open</th>\n",
       "      <th>High</th>\n",
       "      <th>Low</th>\n",
       "      <th>Close</th>\n",
       "      <th>Adj Close</th>\n",
       "      <th>Volume</th>\n",
       "    </tr>\n",
       "  </thead>\n",
       "  <tbody>\n",
       "    <tr>\n",
       "      <th>count</th>\n",
       "      <td>1260.000000</td>\n",
       "      <td>1260.000000</td>\n",
       "      <td>1260.000000</td>\n",
       "      <td>1260.000000</td>\n",
       "      <td>1260.000000</td>\n",
       "      <td>1.260000e+03</td>\n",
       "    </tr>\n",
       "    <tr>\n",
       "      <th>mean</th>\n",
       "      <td>220.069841</td>\n",
       "      <td>222.841476</td>\n",
       "      <td>217.301191</td>\n",
       "      <td>220.124238</td>\n",
       "      <td>220.124238</td>\n",
       "      <td>2.169214e+07</td>\n",
       "    </tr>\n",
       "    <tr>\n",
       "      <th>std</th>\n",
       "      <td>64.034110</td>\n",
       "      <td>64.817521</td>\n",
       "      <td>63.291774</td>\n",
       "      <td>64.040860</td>\n",
       "      <td>64.040860</td>\n",
       "      <td>1.431450e+07</td>\n",
       "    </tr>\n",
       "    <tr>\n",
       "      <th>min</th>\n",
       "      <td>123.099998</td>\n",
       "      <td>129.740005</td>\n",
       "      <td>123.019997</td>\n",
       "      <td>124.059998</td>\n",
       "      <td>124.059998</td>\n",
       "      <td>6.046300e+06</td>\n",
       "    </tr>\n",
       "    <tr>\n",
       "      <th>25%</th>\n",
       "      <td>173.089996</td>\n",
       "      <td>175.000000</td>\n",
       "      <td>171.142502</td>\n",
       "      <td>172.807503</td>\n",
       "      <td>172.807503</td>\n",
       "      <td>1.360232e+07</td>\n",
       "    </tr>\n",
       "    <tr>\n",
       "      <th>50%</th>\n",
       "      <td>194.029999</td>\n",
       "      <td>196.020004</td>\n",
       "      <td>191.514999</td>\n",
       "      <td>193.269997</td>\n",
       "      <td>193.269997</td>\n",
       "      <td>1.800925e+07</td>\n",
       "    </tr>\n",
       "    <tr>\n",
       "      <th>75%</th>\n",
       "      <td>267.710007</td>\n",
       "      <td>270.417496</td>\n",
       "      <td>263.879997</td>\n",
       "      <td>266.792503</td>\n",
       "      <td>266.792503</td>\n",
       "      <td>2.470880e+07</td>\n",
       "    </tr>\n",
       "    <tr>\n",
       "      <th>max</th>\n",
       "      <td>381.679993</td>\n",
       "      <td>384.329987</td>\n",
       "      <td>378.809998</td>\n",
       "      <td>382.179993</td>\n",
       "      <td>382.179993</td>\n",
       "      <td>1.881199e+08</td>\n",
       "    </tr>\n",
       "  </tbody>\n",
       "</table>\n",
       "</div>"
      ],
      "text/plain": [
       "              Open         High          Low        Close    Adj Close  \\\n",
       "count  1260.000000  1260.000000  1260.000000  1260.000000  1260.000000   \n",
       "mean    220.069841   222.841476   217.301191   220.124238   220.124238   \n",
       "std      64.034110    64.817521    63.291774    64.040860    64.040860   \n",
       "min     123.099998   129.740005   123.019997   124.059998   124.059998   \n",
       "25%     173.089996   175.000000   171.142502   172.807503   172.807503   \n",
       "50%     194.029999   196.020004   191.514999   193.269997   193.269997   \n",
       "75%     267.710007   270.417496   263.879997   266.792503   266.792503   \n",
       "max     381.679993   384.329987   378.809998   382.179993   382.179993   \n",
       "\n",
       "             Volume  \n",
       "count  1.260000e+03  \n",
       "mean   2.169214e+07  \n",
       "std    1.431450e+07  \n",
       "min    6.046300e+06  \n",
       "25%    1.360232e+07  \n",
       "50%    1.800925e+07  \n",
       "75%    2.470880e+07  \n",
       "max    1.881199e+08  "
      ]
     },
     "execution_count": 4,
     "metadata": {},
     "output_type": "execute_result"
    }
   ],
   "source": [
    "df.describe()"
   ]
  },
  {
   "cell_type": "code",
   "execution_count": 5,
   "id": "a7f5b7fc",
   "metadata": {},
   "outputs": [
    {
     "data": {
      "text/plain": [
       "Date          object\n",
       "Open         float64\n",
       "High         float64\n",
       "Low          float64\n",
       "Close        float64\n",
       "Adj Close    float64\n",
       "Volume         int64\n",
       "dtype: object"
      ]
     },
     "execution_count": 5,
     "metadata": {},
     "output_type": "execute_result"
    }
   ],
   "source": [
    "df.dtypes"
   ]
  },
  {
   "cell_type": "code",
   "execution_count": 7,
   "id": "ec224eeb",
   "metadata": {},
   "outputs": [
    {
     "data": {
      "text/plain": [
       "<AxesSubplot:xlabel='Date'>"
      ]
     },
     "execution_count": 7,
     "metadata": {},
     "output_type": "execute_result"
    },
    {
     "data": {
      "image/png": "[encoded data removed]",
      "text/plain": [
       "<Figure size 432x288 with 1 Axes>"
      ]
     },
     "metadata": {
      "needs_background": "light"
     },
     "output_type": "display_data"
    }
   ],
   "source": [
    "df.plot(x='Date', y='Close',rot=90)\n"
   ]
  },
  {
   "cell_type": "code",
   "execution_count": 9,
   "id": "35f3d1c5",
   "metadata": {},
   "outputs": [
    {
     "data": {
      "text/plain": [
       "<AxesSubplot:title={'center':'FB Stock Price'}, ylabel='Frequency'>"
      ]
     },
     "execution_count": 9,
     "metadata": {},
     "output_type": "execute_result"
    },
    {
     "data": {
      "image/png": "[encoded data removed]",
      "text/plain": [
       "<Figure size 432x288 with 1 Axes>"
      ]
     },
     "metadata": {
      "needs_background": "light"
     },
     "output_type": "display_data"
    }
   ],
   "source": [
    "df.plot(x='Date', y='Volume', kind='hist', rot=90, title=\"FB Stock Price\")"
   ]
  },
  {
   "cell_type": "code",
   "execution_count": 11,
   "id": "cdba25a5",
   "metadata": {},
   "outputs": [
    {
     "data": {
      "text/plain": [
       "<AxesSubplot:xlabel='y(t)', ylabel='y(t + 1)'>"
      ]
     },
     "execution_count": 11,
     "metadata": {},
     "output_type": "execute_result"
    },
    {
     "data": {
      "image/png": "[encoded data removed]",
      "text/plain": [
       "<Figure size 432x288 with 1 Axes>"
      ]
     },
     "metadata": {
      "needs_background": "light"
     },
     "output_type": "display_data"
    }
   ],
   "source": [
    "pd.plotting.lag_plot(df['Volume'], lag=1)"
   ]
  },
  {
   "cell_type": "code",
   "execution_count": 12,
   "id": "85fd03ee",
   "metadata": {},
   "outputs": [
    {
     "data": {
      "text/plain": [
       "<AxesSubplot:xlabel='y(t)', ylabel='y(t + 1)'>"
      ]
     },
     "execution_count": 12,
     "metadata": {},
     "output_type": "execute_result"
    },
    {
     "data": {
      "image/png": "[encoded data removed]",
      "text/plain": [
       "<Figure size 432x288 with 1 Axes>"
      ]
     },
     "metadata": {
      "needs_background": "light"
     },
     "output_type": "display_data"
    }
   ],
   "source": [
    "pd.plotting.lag_plot(df['Open'], lag=1)"
   ]
  },
  {
   "cell_type": "code",
   "execution_count": 13,
   "id": "fae29deb",
   "metadata": {},
   "outputs": [
    {
     "data": {
      "text/plain": [
       "<AxesSubplot:xlabel='y(t)', ylabel='y(t + 1)'>"
      ]
     },
     "execution_count": 13,
     "metadata": {},
     "output_type": "execute_result"
    },
    {
     "data": {
      "image/png": "[encoded data removed]",
      "text/plain": [
       "<Figure size 432x288 with 1 Axes>"
      ]
     },
     "metadata": {
      "needs_background": "light"
     },
     "output_type": "display_data"
    }
   ],
   "source": [
    "pd.plotting.lag_plot(df['Close'], lag=1)"
   ]
  },
  {
   "cell_type": "code",
   "execution_count": null,
   "id": "58935403",
   "metadata": {},
   "outputs": [],
   "source": [
    "plt."
   ]
  },
  {
   "cell_type": "code",
   "execution_count": 14,
   "id": "de074f30",
   "metadata": {},
   "outputs": [],
   "source": [
    "import seaborn as sns"
   ]
  },
  {
   "cell_type": "code",
   "execution_count": 15,
   "id": "cf71741d",
   "metadata": {},
   "outputs": [
    {
     "data": {
      "image/png": "[encoded data removed]",
      "text/plain": [
       "<Figure size 432x288 with 2 Axes>"
      ]
     },
     "metadata": {
      "needs_background": "light"
     },
     "output_type": "display_data"
    }
   ],
   "source": [
    "sns.heatmap(df.corr());"
   ]
  },
  {
   "cell_type": "code",
   "execution_count": 16,
   "id": "894baecf",
   "metadata": {},
   "outputs": [
    {
     "data": {
      "text/html": [
       "<div>\n",
       "<style scoped>\n",
       "    .dataframe tbody tr th:only-of-type {\n",
       "        vertical-align: middle;\n",
       "    }\n",
       "\n",
       "    .dataframe tbody tr th {\n",
       "        vertical-align: top;\n",
       "    }\n",
       "\n",
       "    .dataframe thead th {\n",
       "        text-align: right;\n",
       "    }\n",
       "</style>\n",
       "<table border=\"1\" class=\"dataframe\">\n",
       "  <thead>\n",
       "    <tr style=\"text-align: right;\">\n",
       "      <th></th>\n",
       "      <th>Open</th>\n",
       "      <th>High</th>\n",
       "      <th>Low</th>\n",
       "      <th>Close</th>\n",
       "      <th>Adj Close</th>\n",
       "      <th>Volume</th>\n",
       "    </tr>\n",
       "  </thead>\n",
       "  <tbody>\n",
       "    <tr>\n",
       "      <th>Open</th>\n",
       "      <td>1.000000</td>\n",
       "      <td>0.999218</td>\n",
       "      <td>0.999109</td>\n",
       "      <td>0.998241</td>\n",
       "      <td>0.998241</td>\n",
       "      <td>-0.094429</td>\n",
       "    </tr>\n",
       "    <tr>\n",
       "      <th>High</th>\n",
       "      <td>0.999218</td>\n",
       "      <td>1.000000</td>\n",
       "      <td>0.998918</td>\n",
       "      <td>0.999148</td>\n",
       "      <td>0.999148</td>\n",
       "      <td>-0.082260</td>\n",
       "    </tr>\n",
       "    <tr>\n",
       "      <th>Low</th>\n",
       "      <td>0.999109</td>\n",
       "      <td>0.998918</td>\n",
       "      <td>1.000000</td>\n",
       "      <td>0.999205</td>\n",
       "      <td>0.999205</td>\n",
       "      <td>-0.110001</td>\n",
       "    </tr>\n",
       "    <tr>\n",
       "      <th>Close</th>\n",
       "      <td>0.998241</td>\n",
       "      <td>0.999148</td>\n",
       "      <td>0.999205</td>\n",
       "      <td>1.000000</td>\n",
       "      <td>1.000000</td>\n",
       "      <td>-0.097070</td>\n",
       "    </tr>\n",
       "    <tr>\n",
       "      <th>Adj Close</th>\n",
       "      <td>0.998241</td>\n",
       "      <td>0.999148</td>\n",
       "      <td>0.999205</td>\n",
       "      <td>1.000000</td>\n",
       "      <td>1.000000</td>\n",
       "      <td>-0.097070</td>\n",
       "    </tr>\n",
       "    <tr>\n",
       "      <th>Volume</th>\n",
       "      <td>-0.094429</td>\n",
       "      <td>-0.082260</td>\n",
       "      <td>-0.110001</td>\n",
       "      <td>-0.097070</td>\n",
       "      <td>-0.097070</td>\n",
       "      <td>1.000000</td>\n",
       "    </tr>\n",
       "  </tbody>\n",
       "</table>\n",
       "</div>"
      ],
      "text/plain": [
       "               Open      High       Low     Close  Adj Close    Volume\n",
       "Open       1.000000  0.999218  0.999109  0.998241   0.998241 -0.094429\n",
       "High       0.999218  1.000000  0.998918  0.999148   0.999148 -0.082260\n",
       "Low        0.999109  0.998918  1.000000  0.999205   0.999205 -0.110001\n",
       "Close      0.998241  0.999148  0.999205  1.000000   1.000000 -0.097070\n",
       "Adj Close  0.998241  0.999148  0.999205  1.000000   1.000000 -0.097070\n",
       "Volume    -0.094429 -0.082260 -0.110001 -0.097070  -0.097070  1.000000"
      ]
     },
     "execution_count": 16,
     "metadata": {},
     "output_type": "execute_result"
    }
   ],
   "source": [
    "df.corr()"
   ]
  },
  {
   "cell_type": "code",
   "execution_count": 20,
   "id": "817605d5",
   "metadata": {},
   "outputs": [
    {
     "data": {
      "text/plain": [
       "[<matplotlib.lines.Line2D at 0x278af8906d0>]"
      ]
     },
     "execution_count": 20,
     "metadata": {},
     "output_type": "execute_result"
    },
    {
     "data": {
      "image/png": "[encoded data removed]",
      "text/plain": [
       "<Figure size 432x288 with 1 Axes>"
      ]
     },
     "metadata": {
      "needs_background": "light"
     },
     "output_type": "display_data"
    }
   ],
   "source": [
    "plt.plot(df['High'],df['Close'],'o')"
   ]
  },
  {
   "cell_type": "markdown",
   "id": "5f4fc431",
   "metadata": {},
   "source": [
    "# Main Idea:"
   ]
  },
  {
   "cell_type": "markdown",
   "id": "c36f402f",
   "metadata": {},
   "source": [
    "The main idea of a financial time series evaluation is to practice asset \n",
    "evaluation over a certain period of time. The in depth analysis done \n",
    "during a finacial time series evauluation exposes the factors that \n",
    "influence certain components in a given time period. Furthermore, a time \n",
    "series analysis displays the usefulness and change of a selected asset \n",
    "over time. "
   ]
  },
  {
   "cell_type": "markdown",
   "id": "859c9599",
   "metadata": {},
   "source": [
    "# Applications:"
   ]
  },
  {
   "cell_type": "markdown",
   "id": "0cb8df60",
   "metadata": {},
   "source": [
    "There are four main applications of time series. They include financial analysis, weather analysis, network data analysis and helathcare analysis. This paper focuses on financial time series analysis. The major components of financial analysis are price estimation, stock market analysis, inventory analysis and sales forecasting."
   ]
  },
  {
   "cell_type": "markdown",
   "id": "09d18b69",
   "metadata": {},
   "source": [
    "# Purpose:"
   ]
  },
  {
   "cell_type": "markdown",
   "id": "879366f3",
   "metadata": {},
   "source": [
    "The purpose of the financial time series done for Meta was to gather insight on the performance of the company. The time seties analysis done here gives Meta a oppurtunity to clean their 'close' prices data. The time series analysis will clearly display any outliers as they are apparent in the plots. This can help Meta dig in to what occured those days that had outliers and get to any strategical measures that would prevent further outliers."
   ]
  },
  {
   "cell_type": "markdown",
   "id": "7c2c1187",
   "metadata": {},
   "source": [
    "# Function:"
   ]
  },
  {
   "cell_type": "markdown",
   "id": "3a21f178",
   "metadata": {},
   "source": [
    "Furthermore, the most important function of the time series analysis done here is to help predict future forecasts. This is invaluable information for a company as it gives them a grip on strategical and quantative limits and opportunities."
   ]
  },
  {
   "cell_type": "markdown",
   "id": "794844f1",
   "metadata": {},
   "source": [
    "# Dataset:"
   ]
  },
  {
   "cell_type": "markdown",
   "id": "12a3e957",
   "metadata": {},
   "source": [
    "The dataset that was chosen for the financial time series here is Meta over the period of the last five years. This time period is probably most important as it takes into account all the opportunities and acquisitions Meta has taken advantage of over the past recent years operating as a tech giant. The data shows little correlation between volume and price. This makes sense as Meta is largely a tech company that operates in the social media industry. This allows them to maximize profits through advertisements and high traffic on their platforms with very little cost. The only cost for Meta would be platform hosting associated. "
   ]
  },
  {
   "cell_type": "markdown",
   "id": "cd24b9e9",
   "metadata": {},
   "source": [
    "# Sources:"
   ]
  },
  {
   "cell_type": "markdown",
   "id": "c60478ac",
   "metadata": {},
   "source": [
    "[Tutorial Spoint](https://www.tutorialspoint.com/time_series/time_series_applications.htm#:~:text=Time%20Series%20-%20Applications%201%20Financial%20Analysis%20%E2%88%92,includes%20census%20prediction%2C%20insurance%20benefits%20prediction%2C%20patient%20monitoring.?msclkid=1a1d74e4d0d411ec93607b63cfcfbd90)\n",
    "\n",
    "[Tessellationtech](https://www.tessellationtech.io/3-advantages-to-time-series-analysis-and-forecasting/?msclkid=da0056fdd0d411ec920514ede75a4b75)"
   ]
  }
 ],
 "metadata": {
  "kernelspec": {
   "display_name": "Python 3",
   "language": "python",
   "name": "python3"
  },
  "language_info": {
   "codemirror_mode": {
    "name": "ipython",
    "version": 3
   },
   "file_extension": ".py",
   "mimetype": "text/x-python",
   "name": "python",
   "nbconvert_exporter": "python",
   "pygments_lexer": "ipython3",
   "version": "3.8.8"
  }
 },
 "nbformat": 4,
 "nbformat_minor": 5
}

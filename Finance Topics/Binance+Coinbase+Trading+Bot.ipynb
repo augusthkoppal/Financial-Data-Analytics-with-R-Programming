{
 "cells": [
  {
   "cell_type": "code",
   "execution_count": 1,
   "id": "f194022a",
   "metadata": {},
   "outputs": [],
   "source": [
    "import pandas as pd\n",
    "from matplotlib import pyplot as plt\n",
    "import numpy as np"
   ]
  },
  {
   "cell_type": "code",
   "execution_count": 2,
   "id": "a90af8a2",
   "metadata": {},
   "outputs": [],
   "source": [
    "df_bin=pd.read_csv('BTC Binance Monthly.csv')"
   ]
  },
  {
   "cell_type": "code",
   "execution_count": 4,
   "id": "70a5f5c7",
   "metadata": {},
   "outputs": [],
   "source": [
    "df_cb=pd.read_csv('BTC Coinbase Monthly.csv')"
   ]
  },
  {
   "cell_type": "code",
   "execution_count": 5,
   "id": "b4d422e0",
   "metadata": {},
   "outputs": [
    {
     "data": {
      "text/html": [
       "<div>\n",
       "<style scoped>\n",
       "    .dataframe tbody tr th:only-of-type {\n",
       "        vertical-align: middle;\n",
       "    }\n",
       "\n",
       "    .dataframe tbody tr th {\n",
       "        vertical-align: top;\n",
       "    }\n",
       "\n",
       "    .dataframe thead th {\n",
       "        text-align: right;\n",
       "    }\n",
       "</style>\n",
       "<table border=\"1\" class=\"dataframe\">\n",
       "  <thead>\n",
       "    <tr style=\"text-align: right;\">\n",
       "      <th></th>\n",
       "      <th>Date</th>\n",
       "      <th>Open</th>\n",
       "      <th>High</th>\n",
       "      <th>Low</th>\n",
       "      <th>Close</th>\n",
       "      <th>Adj Close</th>\n",
       "      <th>Volume</th>\n",
       "    </tr>\n",
       "  </thead>\n",
       "  <tbody>\n",
       "    <tr>\n",
       "      <th>0</th>\n",
       "      <td>2/1/2018</td>\n",
       "      <td>8245.248047</td>\n",
       "      <td>9693.985352</td>\n",
       "      <td>4879.596191</td>\n",
       "      <td>8529.861328</td>\n",
       "      <td>8529.861328</td>\n",
       "      <td>1.860000e+11</td>\n",
       "    </tr>\n",
       "    <tr>\n",
       "      <th>1</th>\n",
       "      <td>3/1/2018</td>\n",
       "      <td>8519.278320</td>\n",
       "      <td>9495.456055</td>\n",
       "      <td>5426.148926</td>\n",
       "      <td>5659.873047</td>\n",
       "      <td>5659.873047</td>\n",
       "      <td>1.570000e+11</td>\n",
       "    </tr>\n",
       "    <tr>\n",
       "      <th>2</th>\n",
       "      <td>4/1/2018</td>\n",
       "      <td>5683.840820</td>\n",
       "      <td>7972.284180</td>\n",
       "      <td>5297.354004</td>\n",
       "      <td>7650.095215</td>\n",
       "      <td>7650.095215</td>\n",
       "      <td>1.600000e+11</td>\n",
       "    </tr>\n",
       "    <tr>\n",
       "      <th>3</th>\n",
       "      <td>5/1/2018</td>\n",
       "      <td>7659.135254</td>\n",
       "      <td>8332.915039</td>\n",
       "      <td>6102.134277</td>\n",
       "      <td>6411.301270</td>\n",
       "      <td>6411.301270</td>\n",
       "      <td>1.670000e+11</td>\n",
       "    </tr>\n",
       "    <tr>\n",
       "      <th>4</th>\n",
       "      <td>6/1/2018</td>\n",
       "      <td>6416.887695</td>\n",
       "      <td>6650.849121</td>\n",
       "      <td>4999.064941</td>\n",
       "      <td>5481.468750</td>\n",
       "      <td>5481.468750</td>\n",
       "      <td>1.110000e+11</td>\n",
       "    </tr>\n",
       "  </tbody>\n",
       "</table>\n",
       "</div>"
      ],
      "text/plain": [
       "       Date         Open         High          Low        Close    Adj Close  \\\n",
       "0  2/1/2018  8245.248047  9693.985352  4879.596191  8529.861328  8529.861328   \n",
       "1  3/1/2018  8519.278320  9495.456055  5426.148926  5659.873047  5659.873047   \n",
       "2  4/1/2018  5683.840820  7972.284180  5297.354004  7650.095215  7650.095215   \n",
       "3  5/1/2018  7659.135254  8332.915039  6102.134277  6411.301270  6411.301270   \n",
       "4  6/1/2018  6416.887695  6650.849121  4999.064941  5481.468750  5481.468750   \n",
       "\n",
       "         Volume  \n",
       "0  1.860000e+11  \n",
       "1  1.570000e+11  \n",
       "2  1.600000e+11  \n",
       "3  1.670000e+11  \n",
       "4  1.110000e+11  "
      ]
     },
     "execution_count": 5,
     "metadata": {},
     "output_type": "execute_result"
    }
   ],
   "source": [
    "df_bin.head()"
   ]
  },
  {
   "cell_type": "code",
   "execution_count": 10,
   "id": "a329e13f",
   "metadata": {},
   "outputs": [
    {
     "data": {
      "text/html": [
       "<div>\n",
       "<style scoped>\n",
       "    .dataframe tbody tr th:only-of-type {\n",
       "        vertical-align: middle;\n",
       "    }\n",
       "\n",
       "    .dataframe tbody tr th {\n",
       "        vertical-align: top;\n",
       "    }\n",
       "\n",
       "    .dataframe thead th {\n",
       "        text-align: right;\n",
       "    }\n",
       "</style>\n",
       "<table border=\"1\" class=\"dataframe\">\n",
       "  <thead>\n",
       "    <tr style=\"text-align: right;\">\n",
       "      <th></th>\n",
       "      <th>Date</th>\n",
       "      <th>Open</th>\n",
       "      <th>High</th>\n",
       "      <th>Low</th>\n",
       "      <th>Close</th>\n",
       "      <th>Adj Close</th>\n",
       "      <th>Volume</th>\n",
       "    </tr>\n",
       "  </thead>\n",
       "  <tbody>\n",
       "    <tr>\n",
       "      <th>0</th>\n",
       "      <td>2/1/2018</td>\n",
       "      <td>10237.299810</td>\n",
       "      <td>11958.500000</td>\n",
       "      <td>6048.259766</td>\n",
       "      <td>10397.900390</td>\n",
       "      <td>10397.900390</td>\n",
       "      <td>2.300000e+11</td>\n",
       "    </tr>\n",
       "    <tr>\n",
       "      <th>1</th>\n",
       "      <td>3/1/2018</td>\n",
       "      <td>10385.000000</td>\n",
       "      <td>11704.099610</td>\n",
       "      <td>6683.930176</td>\n",
       "      <td>6973.529785</td>\n",
       "      <td>6973.529785</td>\n",
       "      <td>1.940000e+11</td>\n",
       "    </tr>\n",
       "    <tr>\n",
       "      <th>2</th>\n",
       "      <td>4/1/2018</td>\n",
       "      <td>7003.060059</td>\n",
       "      <td>9745.320313</td>\n",
       "      <td>6526.870117</td>\n",
       "      <td>9240.549805</td>\n",
       "      <td>9240.549805</td>\n",
       "      <td>1.970000e+11</td>\n",
       "    </tr>\n",
       "    <tr>\n",
       "      <th>3</th>\n",
       "      <td>5/1/2018</td>\n",
       "      <td>9251.469727</td>\n",
       "      <td>9964.500000</td>\n",
       "      <td>7090.680176</td>\n",
       "      <td>7494.169922</td>\n",
       "      <td>7494.169922</td>\n",
       "      <td>1.980000e+11</td>\n",
       "    </tr>\n",
       "    <tr>\n",
       "      <th>4</th>\n",
       "      <td>6/1/2018</td>\n",
       "      <td>7500.700195</td>\n",
       "      <td>7754.890137</td>\n",
       "      <td>5826.410156</td>\n",
       "      <td>6404.000000</td>\n",
       "      <td>6404.000000</td>\n",
       "      <td>1.300000e+11</td>\n",
       "    </tr>\n",
       "  </tbody>\n",
       "</table>\n",
       "</div>"
      ],
      "text/plain": [
       "       Date          Open          High          Low         Close  \\\n",
       "0  2/1/2018  10237.299810  11958.500000  6048.259766  10397.900390   \n",
       "1  3/1/2018  10385.000000  11704.099610  6683.930176   6973.529785   \n",
       "2  4/1/2018   7003.060059   9745.320313  6526.870117   9240.549805   \n",
       "3  5/1/2018   9251.469727   9964.500000  7090.680176   7494.169922   \n",
       "4  6/1/2018   7500.700195   7754.890137  5826.410156   6404.000000   \n",
       "\n",
       "      Adj Close        Volume  \n",
       "0  10397.900390  2.300000e+11  \n",
       "1   6973.529785  1.940000e+11  \n",
       "2   9240.549805  1.970000e+11  \n",
       "3   7494.169922  1.980000e+11  \n",
       "4   6404.000000  1.300000e+11  "
      ]
     },
     "execution_count": 10,
     "metadata": {},
     "output_type": "execute_result"
    }
   ],
   "source": [
    "df_cb.head()"
   ]
  },
  {
   "cell_type": "code",
   "execution_count": 37,
   "id": "543032d3",
   "metadata": {},
   "outputs": [
    {
     "data": {
      "text/plain": [
       "[<matplotlib.lines.Line2D at 0x28a92157460>]"
      ]
     },
     "execution_count": 37,
     "metadata": {},
     "output_type": "execute_result"
    },
    {
     "data": {
      "image/png": "[encoded data removed]",
      "text/plain": [
       "<Figure size 432x288 with 1 Axes>"
      ]
     },
     "metadata": {
      "needs_background": "light"
     },
     "output_type": "display_data"
    }
   ],
   "source": [
    "plt.plot(df_cb['Close'],df_cb['Adj Close'],'o')"
   ]
  },
  {
   "cell_type": "code",
   "execution_count": 34,
   "id": "571e71d4",
   "metadata": {},
   "outputs": [
    {
     "data": {
      "text/plain": [
       "[<matplotlib.lines.Line2D at 0x28a91f29100>]"
      ]
     },
     "execution_count": 34,
     "metadata": {},
     "output_type": "execute_result"
    },
    {
     "data": {
      "image/png": "[encoded data removed]",
      "text/plain": [
       "<Figure size 432x288 with 1 Axes>"
      ]
     },
     "metadata": {
      "needs_background": "light"
     },
     "output_type": "display_data"
    }
   ],
   "source": [
    "plt.plot(df_bin['Close'],df_bin['Open'],'o')"
   ]
  },
  {
   "cell_type": "code",
   "execution_count": 12,
   "id": "6b6e84e2",
   "metadata": {},
   "outputs": [],
   "source": [
    "close_bin=df_bin['Close'].values\n",
    "close_cb=df_cb['Close'].values"
   ]
  },
  {
   "cell_type": "code",
   "execution_count": 15,
   "id": "6860ca04",
   "metadata": {},
   "outputs": [
    {
     "data": {
      "text/plain": [
       "10397.90039"
      ]
     },
     "execution_count": 15,
     "metadata": {},
     "output_type": "execute_result"
    }
   ],
   "source": [
    "np.maximum(close_bin[0],close_cb[0])"
   ]
  },
  {
   "cell_type": "code",
   "execution_count": 16,
   "id": "1f0f27bd",
   "metadata": {},
   "outputs": [
    {
     "data": {
      "text/plain": [
       "8529.861328"
      ]
     },
     "execution_count": 16,
     "metadata": {},
     "output_type": "execute_result"
    }
   ],
   "source": [
    "np.minimum(close_bin[0],close_cb[0])"
   ]
  },
  {
   "cell_type": "code",
   "execution_count": 20,
   "id": "136ac1d3",
   "metadata": {},
   "outputs": [
    {
     "data": {
      "text/plain": [
       "1.2189999333128665"
      ]
     },
     "execution_count": 20,
     "metadata": {},
     "output_type": "execute_result"
    }
   ],
   "source": [
    "np.maximum(close_bin[0],close_cb[0])/np.minimum(close_bin[0],close_cb[0])"
   ]
  },
  {
   "cell_type": "code",
   "execution_count": 23,
   "id": "14e7de02",
   "metadata": {},
   "outputs": [],
   "source": [
    "amt=np.zeros(len(df_cb)+1)\n",
    "amt[0]=1000000\n",
    "for i in range(1, len(df_cb)+1):\n",
    "    amt[i]=amt[i-1]*(np.maximum(close_bin[i-1],close_cb[i-1])/np.minimum(close_bin[i-1],close_cb[i-1]))\n"
   ]
  },
  {
   "cell_type": "code",
   "execution_count": 26,
   "id": "023c9f93",
   "metadata": {},
   "outputs": [
    {
     "data": {
      "text/plain": [
       "array([1.00000000e+06, 1.21899993e+06, 1.50192986e+06, 1.81418104e+06,\n",
       "       2.12059618e+06, 2.47749254e+06, 2.89544554e+06, 3.35842733e+06,\n",
       "       3.89773781e+06, 4.41044774e+06, 4.99196141e+06, 5.73651541e+06,\n",
       "       6.56744857e+06, 7.46939289e+06, 8.38326990e+06, 9.40141425e+06,\n",
       "       1.05234221e+07, 1.19561919e+07, 1.32366971e+07, 1.45746496e+07,\n",
       "       1.58861818e+07, 1.77242382e+07, 1.95288384e+07, 2.19111754e+07,\n",
       "       2.43106611e+07, 2.68093165e+07, 2.95611314e+07, 3.23514056e+07,\n",
       "       3.59663444e+07, 4.04063997e+07, 4.75938862e+07, 5.68149516e+07,\n",
       "       6.66026039e+07, 7.77751644e+07, 9.28447016e+07, 1.13414456e+08,\n",
       "       1.37488408e+08, 1.66233695e+08, 1.94947975e+08, 2.34317812e+08,\n",
       "       2.86630118e+08, 3.39832189e+08, 4.03278854e+08, 4.76274022e+08,\n",
       "       5.51234784e+08, 6.37029236e+08, 7.21758665e+08, 8.20924742e+08,\n",
       "       9.21837297e+08, 1.03378135e+09, 1.14473595e+09, 1.20697480e+09,\n",
       "       1.27497426e+09, 1.34541946e+09])"
      ]
     },
     "execution_count": 26,
     "metadata": {},
     "output_type": "execute_result"
    }
   ],
   "source": [
    "amt"
   ]
  },
  {
   "cell_type": "code",
   "execution_count": 27,
   "id": "d33e2f89",
   "metadata": {},
   "outputs": [
    {
     "data": {
      "text/plain": [
       "[<matplotlib.lines.Line2D at 0x28a90c0bc70>]"
      ]
     },
     "execution_count": 27,
     "metadata": {},
     "output_type": "execute_result"
    },
    {
     "data": {
      "image/png": "[encoded data removed]",
      "text/plain": [
       "<Figure size 432x288 with 1 Axes>"
      ]
     },
     "metadata": {
      "needs_background": "light"
     },
     "output_type": "display_data"
    }
   ],
   "source": [
    "plt.semilogy(amt)"
   ]
  },
  {
   "cell_type": "code",
   "execution_count": 29,
   "id": "03f69259",
   "metadata": {},
   "outputs": [
    {
     "data": {
      "text/plain": [
       "(array([21., 12.,  1.,  0.,  2.,  4.,  5.,  4.,  1.,  3.]),\n",
       " array([ 3020.30249 ,  8024.330444, 13028.358398, 18032.386352,\n",
       "        23036.414306, 28040.44226 , 33044.470214, 38048.498168,\n",
       "        43052.526122, 48056.554076, 53060.58203 ]),\n",
       " <BarContainer object of 10 artists>)"
      ]
     },
     "execution_count": 29,
     "metadata": {},
     "output_type": "execute_result"
    },
    {
     "data": {
      "image/png": "[encoded data removed]",
      "text/plain": [
       "<Figure size 432x288 with 1 Axes>"
      ]
     },
     "metadata": {
      "needs_background": "light"
     },
     "output_type": "display_data"
    }
   ],
   "source": [
    "plt.hist(df_bin['Close'])"
   ]
  },
  {
   "cell_type": "code",
   "execution_count": 38,
   "id": "f45a5597",
   "metadata": {},
   "outputs": [],
   "source": [
    "#random forest regression to predict closing price in binance"
   ]
  },
  {
   "cell_type": "code",
   "execution_count": 40,
   "id": "f80f7da5",
   "metadata": {},
   "outputs": [],
   "source": [
    "X=df_bin[['Open','High','Low','Volume']]\n",
    "y=df_bin['Close']"
   ]
  },
  {
   "cell_type": "code",
   "execution_count": 46,
   "id": "f5ef3cfd",
   "metadata": {},
   "outputs": [],
   "source": [
    "X=X.values\n",
    "y=y.values"
   ]
  },
  {
   "cell_type": "code",
   "execution_count": 47,
   "id": "45428848",
   "metadata": {},
   "outputs": [],
   "source": [
    "from sklearn.model_selection import train_test_split as tts\n",
    "X_train,X_test,y_train,y_test=tts(X,y,test_size=0.2)"
   ]
  },
  {
   "cell_type": "code",
   "execution_count": 48,
   "id": "457b771b",
   "metadata": {},
   "outputs": [
    {
     "data": {
      "text/plain": [
       "RandomForestRegressor()"
      ]
     },
     "execution_count": 48,
     "metadata": {},
     "output_type": "execute_result"
    }
   ],
   "source": [
    "from sklearn.ensemble import RandomForestRegressor\n",
    "rf=RandomForestRegressor()\n",
    "rf.fit(X_train,y_train)"
   ]
  },
  {
   "cell_type": "code",
   "execution_count": 49,
   "id": "74b4dd87",
   "metadata": {},
   "outputs": [],
   "source": [
    "y_pred=rf.predict(X_test)"
   ]
  },
  {
   "cell_type": "code",
   "execution_count": 50,
   "id": "09e2bc44",
   "metadata": {},
   "outputs": [
    {
     "data": {
      "text/plain": [
       "0.9885956946163901"
      ]
     },
     "execution_count": 50,
     "metadata": {},
     "output_type": "execute_result"
    }
   ],
   "source": [
    "from sklearn.metrics import r2_score\n",
    "r2_score(y_test,y_pred)"
   ]
  },
  {
   "cell_type": "markdown",
   "id": "d5de3f1a",
   "metadata": {},
   "source": [
    "# Main Idea:"
   ]
  },
  {
   "cell_type": "markdown",
   "id": "ab68f89d",
   "metadata": {},
   "source": [
    "The main idea of a arbitrage trading bot is to capitalize on opportunities to make money from an existing situation. The idea of arbitrage is that an investment is bought for a lower price and effectively sold at a higher price for a profit. "
   ]
  },
  {
   "cell_type": "markdown",
   "id": "709cd0e0",
   "metadata": {},
   "source": [
    "# Applications:"
   ]
  },
  {
   "cell_type": "markdown",
   "id": "256d97e6",
   "metadata": {},
   "source": [
    "There are many applications of arbitrage bots. Some applications include in industries such as retail(shoes, clothes), sports (betting) and financial based (cryptocurrencies, stocks, bonds etc.). Futuristic purposes of bot trading could be in areas such as maximum extractable value on public blockchain networks. This provides tremendous growth for bot development as it could be one of the most efficient ways to make returns on the blockchain. "
   ]
  },
  {
   "cell_type": "markdown",
   "id": "7a6df4cb",
   "metadata": {},
   "source": [
    "# Function:"
   ]
  },
  {
   "cell_type": "markdown",
   "id": "08bc42af",
   "metadata": {},
   "source": [
    "The function of bots is to perform as quickly as possible. Since they are equated to artificial intelligence components that are designed with the specific goal of identifying arbitrage opportunities. The functionality of most bots are based on the platforms they are built on. The functionality of most crypto currency bots are dependent on the exchanges they are accessible to. Also, other finacial arbitrage bots are also dependent on digital currency exchanges and other related platforms that give bots more options. "
   ]
  },
  {
   "cell_type": "markdown",
   "id": "03a1c01d",
   "metadata": {},
   "source": [
    "# Purpose:"
   ]
  },
  {
   "cell_type": "markdown",
   "id": "e0d98d42",
   "metadata": {},
   "source": [
    "The main purpose of bots are to make returns. The bots focus on oppurtunites that will give the bot the highest possible return. The purpose of a well developed bot is to take into account slippage and gas fees which are often associated with exchanges. These fees often represent a large portion of the possible profit or return made from an arbitrage opportunity. Well designed and developed bots have purposes that allow them to deviate from any arbitrage opportunities that could be exposed to slippage or high gas fees and could render good opportunities useless because of fees or delayed confirmations of selling and buying.  "
   ]
  },
  {
   "cell_type": "markdown",
   "id": "4a767173",
   "metadata": {},
   "source": [
    "# Dataset:"
   ]
  },
  {
   "cell_type": "markdown",
   "id": "4c5d188f",
   "metadata": {},
   "source": [
    "The datasets that were selected for this bot were from two different exchanges. The cryptocurrency exhanges Binance and Coinbase were chosen. In both exchanges the asset bitcoin was observed. Given that the information was historical, the bot was able to determine which exchange on any given month had the lowest and highest values for Bitcoin. Thus, the bot was given instructions that it would start initially with a million dollars on the second month of the year 2018. Every month the bot would buy Bitcoin from whichever crypto currency exhchange offered it for the lowest. Consequently the bot would then sell Bitcoin to the other exchange for a profit. This was far from a realistic situation as the bot was allowed to increase exponentially return as there was no option for slippage or other fees. The bot then appears to take on a linear regression type of growth as it constantly adds to it's total knowing there is no opportunities for it to lose money.\n",
    "Furthermore, a random forest regression model was incorporated into the data in order to predict the closing price on the binance platform. The model gave the random forest regression model a score of 0.9885956946163901. This means that the model can be seen as extremely accurate. In addition, a outlier or anamoly analysis could have been done in the form of a data mining method. However, it seemed more appropriate to create a interquartile histogram chart that could help determine what seasons were the best to take advantage of arbitrage oppurtunities based on the historical data. It appears that the earlier months were probably the best for arbitrage opportunities."
   ]
  },
  {
   "cell_type": "markdown",
   "id": "b23acf6e",
   "metadata": {},
   "source": [
    "# Sources:"
   ]
  },
  {
   "cell_type": "markdown",
   "id": "eb7f6eca",
   "metadata": {},
   "source": [
    "[Investopedia](https://www.investopedia.com/tech/whats-role-bots-crypto-trading/#:~:text=1%20Bots%20are%20used%20by%20traders%20to%20take,trade%E2%80%94something%20that%20bots%20can%20do.%20More%20items...%20?msclkid=05b414d2d0e611ec86823287447c81fb)"
   ]
  }
 ],
 "metadata": {
  "kernelspec": {
   "display_name": "Python 3",
   "language": "python",
   "name": "python3"
  },
  "language_info": {
   "codemirror_mode": {
    "name": "ipython",
    "version": 3
   },
   "file_extension": ".py",
   "mimetype": "text/x-python",
   "name": "python",
   "nbconvert_exporter": "python",
   "pygments_lexer": "ipython3",
   "version": "3.8.8"
  }
 },
 "nbformat": 4,
 "nbformat_minor": 5
}
